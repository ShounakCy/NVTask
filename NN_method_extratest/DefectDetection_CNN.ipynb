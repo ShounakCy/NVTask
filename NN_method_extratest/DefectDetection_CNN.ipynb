{
 "cells": [
  {
   "cell_type": "markdown",
   "metadata": {},
   "source": [
    "### Load libs"
   ]
  },
  {
   "cell_type": "code",
   "execution_count": 27,
   "metadata": {},
   "outputs": [],
   "source": [
    "import numpy as np\n",
    "\n",
    "import matplotlib.pyplot as plt\n",
    "\n",
    "import tensorflow as tf\n",
    "\n",
    "from tensorflow import keras\n",
    "\n",
    "from keras.callbacks import ModelCheckpoint, TensorBoard\n",
    "from keras import regularizers\n",
    "import seaborn as sns\n",
    "from keras.preprocessing.image import ImageDataGenerator\n",
    "from tensorflow.keras.utils import array_to_img, img_to_array, load_img\n",
    "from keras.layers import Input, Dense, Conv2D, MaxPooling2D, UpSampling2D, ZeroPadding2D, Flatten, Activation\n",
    "from keras.models import Sequential, Model\n",
    "\n",
    "import os\n",
    "import cv2\n",
    "\n",
    "\n",
    "%matplotlib inline\n",
    "\n",
    "sns.set(style='whitegrid', palette='muted', font_scale=1.5)"
   ]
  },
  {
   "cell_type": "markdown",
   "metadata": {},
   "source": [
    "### Helpers. Params. Preprocesing\n"
   ]
  },
  {
   "cell_type": "code",
   "execution_count": 28,
   "metadata": {},
   "outputs": [],
   "source": [
    "def fixed_generator(generator):\n",
    "    for batch in generator:\n",
    "        yield (batch, batch)   "
   ]
  },
  {
   "cell_type": "code",
   "execution_count": 29,
   "metadata": {},
   "outputs": [],
   "source": [
    "def mse(imageA, imageB):\n",
    "    err = np.sum((imageA.astype(\"float\") - imageB.astype(\"float\")) ** 2)\n",
    "    err /= float(imageA.shape[0] * imageA.shape[1])\n",
    "    return err"
   ]
  },
  {
   "cell_type": "code",
   "execution_count": 89,
   "metadata": {},
   "outputs": [],
   "source": [
    "#Test any image\n",
    "def ImageHasdefect(model, filePath,threshold):  \n",
    "    im = cv2.resize(cv2.imread(filePath), (3660, 252))\n",
    "    im = im * 1./255\n",
    "\n",
    "    #validation_image = np.zeros((1,  3660, 252, 3))\n",
    "    validation_image[0, :, :, :] = im;   \n",
    "    predicted_image = model.predict(validation_image)\n",
    "    _mse = mse(predicted_image[0], validation_image[0]) \n",
    "    print('_mse: {}'.format(_mse))\n",
    "    return _mse  > threshold"
   ]
  },
  {
   "cell_type": "code",
   "execution_count": 31,
   "metadata": {},
   "outputs": [],
   "source": [
    "img_width, img_height = 252, 3660\n",
    "\n",
    "\n",
    "batch_size = 32\n",
    "\n",
    "nb_validation_samples=0\n",
    "nb_train_samples=0\n",
    "\n",
    "nb_epoch=20\n",
    "\n",
    "initial_image_dir='.NN_method/images/docs'\n",
    "train_data_dir = initial_image_dir + '/train'\n",
    "validation_data_dir = initial_image_dir + '/valid'"
   ]
  },
  {
   "cell_type": "markdown",
   "metadata": {},
   "source": [
    "#### Generator for images to complete dataset\n",
    "Generator is used for extending the image dataset by image transformation"
   ]
  },
  {
   "cell_type": "code",
   "execution_count": 32,
   "metadata": {},
   "outputs": [],
   "source": [
    "datagen = ImageDataGenerator(\n",
    "    rotation_range=2,\n",
    "         \n",
    "        rescale=1./255,\n",
    "        \n",
    "        horizontal_flip=True,\n",
    "        vertical_flip=True,\n",
    "        fill_mode='nearest')"
   ]
  },
  {
   "cell_type": "markdown",
   "metadata": {},
   "source": [
    "#### New image generation flow"
   ]
  },
  {
   "cell_type": "code",
   "execution_count": 33,
   "metadata": {},
   "outputs": [
    {
     "name": "stdout",
     "output_type": "stream",
     "text": [
      "generate additional images for train in: /efs/workspace/cnn-anomaly-detection-keras/images/docs/train/correct_samples\n",
      "generate additional images for validation in: /efs/workspace/cnn-anomaly-detection-keras/images/docs/valid/correct_samples\n",
      "generate additional images for train in: /efs/workspace/cnn-anomaly-detection-keras/images/docs/train/correct_samples\n",
      "generate additional images for validation in: /efs/workspace/cnn-anomaly-detection-keras/images/docs/valid/correct_samples\n",
      "generate additional images for train in: /efs/workspace/cnn-anomaly-detection-keras/images/docs/train/correct_samples\n",
      "generate additional images for validation in: /efs/workspace/cnn-anomaly-detection-keras/images/docs/valid/correct_samples\n",
      "-------------------------------------------\n",
      "Initial image count: 3 \n",
      "Train image count: 299 \n",
      "Validation image count: 63 \n"
     ]
    }
   ],
   "source": [
    "image_list = os.listdir(initial_image_dir) #initial path to images\n",
    "\n",
    "inital_image_count=0\n",
    "for img in image_list:   \n",
    "    img_path= initial_image_dir + '/' + img\n",
    "    if not os.path.isfile(img_path):\n",
    "        continue\n",
    "       \n",
    "    inital_image_count += 1  \n",
    "    \n",
    "    img = load_img(img_path)  # this is a PIL image\n",
    "    x = img_to_array(img)  \n",
    "    x = x.reshape((1,) + x.shape)  \n",
    "    \n",
    "    train_save_to = train_data_dir + '/correct_samples'\n",
    "    if not os.path.exists(train_save_to):\n",
    "        os.makedirs(train_save_to)\n",
    "    \n",
    "    valid_save_to = validation_data_dir + '/correct_samples'\n",
    "    if not os.path.exists(valid_save_to):\n",
    "        os.makedirs(valid_save_to)\n",
    "    \n",
    "    print(\"generate additional images for train in: \" + train_save_to)\n",
    "    \n",
    "    i = 0\n",
    "    for batch in datagen.flow(x, batch_size=5, save_to_dir = train_save_to, save_prefix='sampleIM', save_format='jpg'):\n",
    "        i += 1\n",
    "        if i > 100:\n",
    "            break  # otherwise the generator would loop indefinitely\n",
    "\n",
    "    train_size=0            \n",
    "    for t in os.listdir(train_save_to):\n",
    "        if os.path.isfile(train_save_to +\"/\" + t):\n",
    "            train_size += 1 \n",
    "            \n",
    "            \n",
    "    print(\"generate additional images for validation in: \" + valid_save_to)\n",
    "    j=0\n",
    "    for batch in datagen.flow(x, batch_size=1, save_to_dir=valid_save_to, save_prefix='valIm', save_format='jpg'):\n",
    "        j += 1\n",
    "        if j > 20:\n",
    "            break  # otherwise the generator would loop indefinitely\n",
    "            \n",
    "    validation_size=0            \n",
    "    for v in os.listdir(valid_save_to):\n",
    "        if os.path.isfile(valid_save_to+\"/\" +v):\n",
    "            validation_size += 1 \n",
    "            \n",
    "print(\"-------------------------------------------\")\n",
    "print(\"Initial image count: {} \".format(inital_image_count))\n",
    "print(\"Train image count: {} \".format(train_size))\n",
    "print(\"Validation image count: {} \".format(validation_size))"
   ]
  },
  {
   "cell_type": "markdown",
   "metadata": {},
   "source": [
    "### Exract data for train and test"
   ]
  },
  {
   "cell_type": "code",
   "execution_count": 34,
   "metadata": {},
   "outputs": [
    {
     "name": "stdout",
     "output_type": "stream",
     "text": [
      "Found 299 images belonging to 1 classes.\n",
      "Found 63 images belonging to 1 classes.\n"
     ]
    }
   ],
   "source": [
    "# this is the augmentation configuration we will use for training\n",
    "# only rescaling\n",
    "train_datagen = ImageDataGenerator(rescale=1./255)\n",
    "\n",
    "# this is the augmentation configuration we will use for testing:\n",
    "# only rescaling\n",
    "test_datagen = ImageDataGenerator(rescale=1./255)\n",
    "\n",
    "# this is a generator that will read pictures\n",
    "train_generator = train_datagen.flow_from_directory(\n",
    "        train_data_dir,  # this is the target directory\n",
    "        target_size=(img_width, img_height),  \n",
    "        batch_size=batch_size,\n",
    "        color_mode='rgb', \n",
    "        class_mode=None)  \n",
    "\n",
    "nb_train_samples=train_generator.samples\n",
    "# this is a similar generator, for validation data\n",
    "validation_generator = test_datagen.flow_from_directory(\n",
    "        validation_data_dir,\n",
    "        target_size=(img_width, img_height),\n",
    "        batch_size=batch_size,\n",
    "        color_mode='rgb', \n",
    "        class_mode=None)\n",
    "\n",
    "nb_validation_samples=validation_generator.samples"
   ]
  },
  {
   "cell_type": "markdown",
   "metadata": {},
   "source": [
    "### Build Simplest Model"
   ]
  },
  {
   "cell_type": "code",
   "execution_count": 35,
   "metadata": {},
   "outputs": [
    {
     "name": "stdout",
     "output_type": "stream",
     "text": [
      "Model: \"model_1\"\n",
      "_________________________________________________________________\n",
      " Layer (type)                Output Shape              Param #   \n",
      "=================================================================\n",
      " input_2 (InputLayer)        [(None, 252, 3660, 3)]    0         \n",
      "                                                                 \n",
      " conv2d_7 (Conv2D)           (None, 252, 3660, 16)     448       \n",
      "                                                                 \n",
      " max_pooling2d_3 (MaxPooling  (None, 126, 1830, 16)    0         \n",
      " 2D)                                                             \n",
      "                                                                 \n",
      " conv2d_8 (Conv2D)           (None, 126, 1830, 8)      1160      \n",
      "                                                                 \n",
      " max_pooling2d_4 (MaxPooling  (None, 63, 915, 8)       0         \n",
      " 2D)                                                             \n",
      "                                                                 \n",
      " conv2d_9 (Conv2D)           (None, 63, 915, 8)        584       \n",
      "                                                                 \n",
      " max_pooling2d_5 (MaxPooling  (None, 32, 458, 8)       0         \n",
      " 2D)                                                             \n",
      "                                                                 \n",
      " conv2d_10 (Conv2D)          (None, 32, 458, 8)        584       \n",
      "                                                                 \n",
      " up_sampling2d_3 (UpSampling  (None, 64, 916, 8)       0         \n",
      " 2D)                                                             \n",
      "                                                                 \n",
      " conv2d_11 (Conv2D)          (None, 64, 916, 8)        584       \n",
      "                                                                 \n",
      " up_sampling2d_4 (UpSampling  (None, 128, 1832, 8)     0         \n",
      " 2D)                                                             \n",
      "                                                                 \n",
      " conv2d_12 (Conv2D)          (None, 126, 1830, 16)     1168      \n",
      "                                                                 \n",
      " up_sampling2d_5 (UpSampling  (None, 252, 3660, 16)    0         \n",
      " 2D)                                                             \n",
      "                                                                 \n",
      " conv2d_13 (Conv2D)          (None, 252, 3660, 3)      435       \n",
      "                                                                 \n",
      "=================================================================\n",
      "Total params: 4,963\n",
      "Trainable params: 4,963\n",
      "Non-trainable params: 0\n",
      "_________________________________________________________________\n"
     ]
    }
   ],
   "source": [
    "input_img = Input(batch_shape=(None, img_width, img_height, 3))\n",
    "\n",
    "x = Conv2D(16, (3, 3), activation='relu', padding='same')(input_img)\n",
    "x = MaxPooling2D((2, 2), padding='same')(x)\n",
    "x = Conv2D(8, (3, 3), activation='relu', padding='same')(x)\n",
    "x = MaxPooling2D((2, 2), padding='same')(x)\n",
    "x = Conv2D(8, (3, 3), activation='relu', padding='same')(x)\n",
    "encoded = MaxPooling2D((2, 2), padding='same')(x)\n",
    "\n",
    "x = Conv2D(8, (3, 3), activation='relu', padding='same')(encoded)\n",
    "x = UpSampling2D((2, 2))(x)\n",
    "x = Conv2D(8, (3, 3), activation='relu', padding='same')(x)\n",
    "x = UpSampling2D((2, 2))(x)\n",
    "x = Conv2D(16, (3, 3), activation='relu')(x)\n",
    "x = UpSampling2D((2, 2))(x)\n",
    "decoded = Conv2D(3, (3, 3), activation='sigmoid', padding='same')(x)\n",
    "\n",
    "model = Model(input_img, decoded)\n",
    "opt = keras.optimizers.Adam(learning_rate=0.001)\n",
    "model.compile(optimizer=opt, loss='binary_crossentropy')\n",
    "\n",
    "model.summary()"
   ]
  },
  {
   "cell_type": "markdown",
   "metadata": {},
   "source": [
    "### Train our network"
   ]
  },
  {
   "cell_type": "code",
   "execution_count": 36,
   "metadata": {},
   "outputs": [
    {
     "name": "stdout",
     "output_type": "stream",
     "text": [
      "Epoch 1/20\n",
      "9/9 [==============================] - 44s 5s/step - loss: 0.6819 - val_loss: 0.6554\n",
      "Epoch 2/20\n",
      "9/9 [==============================] - 42s 5s/step - loss: 0.6234 - val_loss: 0.6074\n",
      "Epoch 3/20\n",
      "9/9 [==============================] - 40s 5s/step - loss: 0.5885 - val_loss: 0.5662\n",
      "Epoch 4/20\n",
      "9/9 [==============================] - 40s 5s/step - loss: 0.5448 - val_loss: 0.5207\n",
      "Epoch 5/20\n",
      "9/9 [==============================] - 40s 5s/step - loss: 0.4901 - val_loss: 0.4670\n",
      "Epoch 6/20\n",
      "9/9 [==============================] - 40s 5s/step - loss: 0.4668 - val_loss: 0.4655\n",
      "Epoch 7/20\n",
      "9/9 [==============================] - 42s 5s/step - loss: 0.4607 - val_loss: 0.4550\n",
      "Epoch 8/20\n",
      "9/9 [==============================] - 40s 5s/step - loss: 0.4607 - val_loss: 0.4667\n",
      "Epoch 9/20\n",
      "9/9 [==============================] - 40s 5s/step - loss: 0.4591 - val_loss: 0.4579\n",
      "Epoch 10/20\n",
      "9/9 [==============================] - 40s 5s/step - loss: 0.4588 - val_loss: 0.4609\n",
      "Epoch 11/20\n",
      "9/9 [==============================] - 41s 5s/step - loss: 0.4580 - val_loss: 0.4602\n",
      "Epoch 12/20\n",
      "9/9 [==============================] - 42s 5s/step - loss: 0.4600 - val_loss: 0.4633\n",
      "Epoch 13/20\n",
      "9/9 [==============================] - 41s 5s/step - loss: 0.4577 - val_loss: 0.4564\n",
      "Epoch 14/20\n",
      "9/9 [==============================] - 39s 5s/step - loss: 0.4583 - val_loss: 0.4574\n",
      "Epoch 15/20\n",
      "9/9 [==============================] - 42s 5s/step - loss: 0.4587 - val_loss: 0.4594\n",
      "Epoch 16/20\n",
      "9/9 [==============================] - 37s 4s/step - loss: 0.4571 - val_loss: 0.4525\n",
      "Epoch 17/20\n",
      "9/9 [==============================] - 41s 5s/step - loss: 0.4591 - val_loss: 0.4589\n",
      "Epoch 18/20\n",
      "9/9 [==============================] - 40s 5s/step - loss: 0.4568 - val_loss: 0.4576\n",
      "Epoch 19/20\n",
      "9/9 [==============================] - 41s 5s/step - loss: 0.4574 - val_loss: 0.4518\n",
      "Epoch 20/20\n",
      "9/9 [==============================] - 39s 5s/step - loss: 0.4574 - val_loss: 0.4605\n"
     ]
    },
    {
     "data": {
      "text/plain": [
       "<keras.callbacks.History at 0x7fad86cb8d90>"
      ]
     },
     "execution_count": 36,
     "metadata": {},
     "output_type": "execute_result"
    }
   ],
   "source": [
    "model.fit(\n",
    "        fixed_generator(train_generator),\n",
    "        steps_per_epoch=nb_train_samples // batch_size,\n",
    "        epochs=nb_epoch,\n",
    "        validation_data=fixed_generator(validation_generator),\n",
    "        validation_steps=nb_validation_samples // batch_size)"
   ]
  },
  {
   "cell_type": "markdown",
   "metadata": {
    "collapsed": true
   },
   "source": [
    "### Save weights"
   ]
  },
  {
   "cell_type": "code",
   "execution_count": 37,
   "metadata": {},
   "outputs": [],
   "source": [
    "model.save_weights('defect-detection.h5')"
   ]
  },
  {
   "cell_type": "markdown",
   "metadata": {},
   "source": [
    "### Load weights"
   ]
  },
  {
   "cell_type": "code",
   "execution_count": 38,
   "metadata": {},
   "outputs": [],
   "source": [
    "model.load_weights('defect-detection.h5');"
   ]
  },
  {
   "cell_type": "markdown",
   "metadata": {
    "collapsed": true
   },
   "source": [
    "### Test encoder and visualize result"
   ]
  },
  {
   "cell_type": "code",
   "execution_count": 39,
   "metadata": {},
   "outputs": [
    {
     "name": "stdout",
     "output_type": "stream",
     "text": [
      "1/1 [==============================] - 0s 256ms/step\n"
     ]
    },
    {
     "data": {
      "image/png": "[encoded data removed]",
      "text/plain": [
       "<Figure size 432x288 with 1 Axes>"
      ]
     },
     "metadata": {},
     "output_type": "display_data"
    }
   ],
   "source": [
    "img = next(validation_generator)[:7] # Get random image\n",
    "\n",
    "dec = model.predict(img) # Decoded image\n",
    "img = img[0]\n",
    "dec = dec[0]\n",
    "img = (img*255).astype('uint8')\n",
    "dec = (dec*255).astype('uint8')\n",
    "\n",
    "plt.imshow(np.hstack((img, dec)))\n",
    "plt.title('Original and reconstructed images')\n",
    "plt.show()"
   ]
  },
  {
   "cell_type": "markdown",
   "metadata": {},
   "source": [
    " Selecting th"
   ]
  },
  {
   "cell_type": "code",
   "execution_count": 84,
   "metadata": {},
   "outputs": [],
   "source": [
    "# base on visulization lets say that everething that more then threshold likelihood defect\n",
    "# set threshold manually\n",
    "threshold=0.00065"
   ]
  },
  {
   "cell_type": "code",
   "execution_count": 93,
   "metadata": {},
   "outputs": [
    {
     "name": "stdout",
     "output_type": "stream",
     "text": [
      "1/1 [==============================] - 1s 807ms/step\n",
      "_mse: 0.0006001763445255377\n"
     ]
    },
    {
     "data": {
      "text/plain": [
       "False"
      ]
     },
     "execution_count": 93,
     "metadata": {},
     "output_type": "execute_result"
    }
   ],
   "source": [
    "#checking against correct images as the model is trained with defective images\n",
    "ImageHasdefect(model, './NN_method/correct.jpg',threshold)"
   ]
  },
  {
   "cell_type": "code",
   "execution_count": null,
   "metadata": {},
   "outputs": [],
   "source": []
  }
 ],
 "metadata": {
  "kernelspec": {
   "display_name": "Python 3.7.13 ('PIPrediction')",
   "language": "python",
   "name": "python3"
  },
  "language_info": {
   "codemirror_mode": {
    "name": "ipython",
    "version": 3
   },
   "file_extension": ".py",
   "mimetype": "text/x-python",
   "name": "python",
   "nbconvert_exporter": "python",
   "pygments_lexer": "ipython3",
   "version": "3.7.13"
  },
  "vscode": {
   "interpreter": {
    "hash": "bd299929b67f6cd9745e09101b4b10e49988cd51c7664d2dab32a2fed4aee934"
   }
  }
 },
 "nbformat": 4,
 "nbformat_minor": 2
}
